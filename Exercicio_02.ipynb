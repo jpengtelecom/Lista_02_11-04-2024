{
  "nbformat": 4,
  "nbformat_minor": 0,
  "metadata": {
    "colab": {
      "provenance": [],
      "include_colab_link": true
    },
    "kernelspec": {
      "name": "python3",
      "display_name": "Python 3"
    },
    "language_info": {
      "name": "python"
    }
  },
  "cells": [
    {
      "cell_type": "markdown",
      "metadata": {
        "id": "view-in-github",
        "colab_type": "text"
      },
      "source": [
        "<a href=\"https://colab.research.google.com/github/jpengtelecom/Lista_02_11-04-2024/blob/main/Exercicio_02.ipynb\" target=\"_parent\"><img src=\"https://colab.research.google.com/assets/colab-badge.svg\" alt=\"Open In Colab\"/></a>"
      ]
    },
    {
      "cell_type": "code",
      "source": [
        "\n",
        "!pip install numpy\n",
        "!pip install matplotlib\n",
        "!pip install random\n",
        "import numpy as np"
      ],
      "metadata": {
        "colab": {
          "base_uri": "https://localhost:8080/"
        },
        "id": "li0LlhOg4b0P",
        "outputId": "75f97848-b64e-4fa0-cd55-46da41bf79c6"
      },
      "execution_count": 30,
      "outputs": [
        {
          "output_type": "stream",
          "name": "stdout",
          "text": [
            "Requirement already satisfied: numpy in /usr/local/lib/python3.10/dist-packages (1.25.2)\n",
            "Requirement already satisfied: matplotlib in /usr/local/lib/python3.10/dist-packages (3.7.1)\n",
            "Requirement already satisfied: contourpy>=1.0.1 in /usr/local/lib/python3.10/dist-packages (from matplotlib) (1.2.0)\n",
            "Requirement already satisfied: cycler>=0.10 in /usr/local/lib/python3.10/dist-packages (from matplotlib) (0.12.1)\n",
            "Requirement already satisfied: fonttools>=4.22.0 in /usr/local/lib/python3.10/dist-packages (from matplotlib) (4.50.0)\n",
            "Requirement already satisfied: kiwisolver>=1.0.1 in /usr/local/lib/python3.10/dist-packages (from matplotlib) (1.4.5)\n",
            "Requirement already satisfied: numpy>=1.20 in /usr/local/lib/python3.10/dist-packages (from matplotlib) (1.25.2)\n",
            "Requirement already satisfied: packaging>=20.0 in /usr/local/lib/python3.10/dist-packages (from matplotlib) (24.0)\n",
            "Requirement already satisfied: pillow>=6.2.0 in /usr/local/lib/python3.10/dist-packages (from matplotlib) (9.4.0)\n",
            "Requirement already satisfied: pyparsing>=2.3.1 in /usr/local/lib/python3.10/dist-packages (from matplotlib) (3.1.2)\n",
            "Requirement already satisfied: python-dateutil>=2.7 in /usr/local/lib/python3.10/dist-packages (from matplotlib) (2.8.2)\n",
            "Requirement already satisfied: six>=1.5 in /usr/local/lib/python3.10/dist-packages (from python-dateutil>=2.7->matplotlib) (1.16.0)\n",
            "\u001b[31mERROR: Could not find a version that satisfies the requirement random (from versions: none)\u001b[0m\u001b[31m\n",
            "\u001b[0m\u001b[31mERROR: No matching distribution found for random\u001b[0m\u001b[31m\n",
            "\u001b[0m"
          ]
        }
      ]
    },
    {
      "cell_type": "code",
      "execution_count": 35,
      "metadata": {
        "colab": {
          "base_uri": "https://localhost:8080/"
        },
        "id": "88SFJ3ii4QUr",
        "outputId": "d6a150f3-fdf9-4feb-a65b-443504a7b2f9"
      },
      "outputs": [
        {
          "output_type": "stream",
          "name": "stdout",
          "text": [
            "A probabilidade de obter pelo menos um dado com o valor seis é de:  59.808099999999996 %\n"
          ]
        }
      ],
      "source": [
        "N = 10000000\n",
        "dado_01 = np.random.randint(1, 7, N)\n",
        "dado_02 = np.random.randint(1, 7, N)\n",
        "dado_03 = np.random.randint(1, 7, N)\n",
        "dado_04 = np.random.randint(1, 7, N)\n",
        "dado_05 = np.random.randint(1, 7, N)\n",
        "\n",
        "quant = 0\n",
        "\n",
        "for j in range(0, N):\n",
        "    cont_00 = 0\n",
        "    cont_01 = 0\n",
        "    cont_02 = 0\n",
        "    cont_03 = 0\n",
        "    cont_04 = 0\n",
        "    cont_05 = 0\n",
        "\n",
        "    if dado_01[j] == 6:\n",
        "        cont_01 += 1\n",
        "    if dado_02[j] == 6:\n",
        "        cont_02 += 1\n",
        "    if dado_03[j] == 6:\n",
        "        cont_03 += 1\n",
        "    if dado_04[j] == 6:\n",
        "        cont_04 += 1\n",
        "    if dado_05[j] == 6:\n",
        "        cont_05 += 1\n",
        "\n",
        "    cont_00 = cont_01 + cont_02 + cont_03 + cont_04 + cont_05\n",
        "\n",
        "    if cont_00 >= 1:\n",
        "        quant += 1\n",
        "\n",
        "prob = quant / N\n",
        "print(\"A probabilidade de obter pelo menos um dado com o valor seis é de: \",prob*100, \"%\")"
      ]
    }
  ]
}