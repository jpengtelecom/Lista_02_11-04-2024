{
  "nbformat": 4,
  "nbformat_minor": 0,
  "metadata": {
    "colab": {
      "provenance": [],
      "include_colab_link": true
    },
    "kernelspec": {
      "name": "python3",
      "display_name": "Python 3"
    },
    "language_info": {
      "name": "python"
    }
  },
  "cells": [
    {
      "cell_type": "markdown",
      "metadata": {
        "id": "view-in-github",
        "colab_type": "text"
      },
      "source": [
        "<a href=\"https://colab.research.google.com/github/jpengtelecom/Lista_02_11-04-2024/blob/main/Exercicio_02.ipynb\" target=\"_parent\"><img src=\"https://colab.research.google.com/assets/colab-badge.svg\" alt=\"Open In Colab\"/></a>"
      ]
    },
    {
      "cell_type": "code",
      "source": [
        "!pip install matplotlib\n",
        "import random\n",
        "import numpy as np"
      ],
      "metadata": {
        "colab": {
          "base_uri": "https://localhost:8080/"
        },
        "id": "li0LlhOg4b0P",
        "outputId": "c4cfcf99-1445-425b-be25-6d15a5e66cdd"
      },
      "execution_count": 44,
      "outputs": [
        {
          "output_type": "stream",
          "name": "stdout",
          "text": [
            "Requirement already satisfied: matplotlib in /usr/local/lib/python3.10/dist-packages (3.7.1)\n",
            "Requirement already satisfied: contourpy>=1.0.1 in /usr/local/lib/python3.10/dist-packages (from matplotlib) (1.2.0)\n",
            "Requirement already satisfied: cycler>=0.10 in /usr/local/lib/python3.10/dist-packages (from matplotlib) (0.12.1)\n",
            "Requirement already satisfied: fonttools>=4.22.0 in /usr/local/lib/python3.10/dist-packages (from matplotlib) (4.50.0)\n",
            "Requirement already satisfied: kiwisolver>=1.0.1 in /usr/local/lib/python3.10/dist-packages (from matplotlib) (1.4.5)\n",
            "Requirement already satisfied: numpy>=1.20 in /usr/local/lib/python3.10/dist-packages (from matplotlib) (1.25.2)\n",
            "Requirement already satisfied: packaging>=20.0 in /usr/local/lib/python3.10/dist-packages (from matplotlib) (24.0)\n",
            "Requirement already satisfied: pillow>=6.2.0 in /usr/local/lib/python3.10/dist-packages (from matplotlib) (9.4.0)\n",
            "Requirement already satisfied: pyparsing>=2.3.1 in /usr/local/lib/python3.10/dist-packages (from matplotlib) (3.1.2)\n",
            "Requirement already satisfied: python-dateutil>=2.7 in /usr/local/lib/python3.10/dist-packages (from matplotlib) (2.8.2)\n",
            "Requirement already satisfied: six>=1.5 in /usr/local/lib/python3.10/dist-packages (from python-dateutil>=2.7->matplotlib) (1.16.0)\n"
          ]
        }
      ]
    },
    {
      "cell_type": "code",
      "execution_count": 45,
      "metadata": {
        "colab": {
          "base_uri": "https://localhost:8080/"
        },
        "id": "88SFJ3ii4QUr",
        "outputId": "93d4897e-db22-4d7e-80fb-e40a5529e998"
      },
      "outputs": [
        {
          "output_type": "stream",
          "name": "stdout",
          "text": [
            "A probabilidade de obter pelo menos um dado com o face seis é de:  59.8347 %\n"
          ]
        }
      ],
      "source": [
        "N = 1000000 #número de amostras\n",
        "\n",
        "dado_01 = np.random.randint(1, 7, N) #Geração aleatória da face do dado1\n",
        "dado_02 = np.random.randint(1, 7, N) #Geração aleatória da face do dado2\n",
        "dado_03 = np.random.randint(1, 7, N) #Geração aleatória da face do dado3\n",
        "dado_04 = np.random.randint(1, 7, N) #Geração aleatória da face do dado4\n",
        "dado_05 = np.random.randint(1, 7, N) #Geração aleatória da face do dado5\n",
        "\n",
        "quant = 0\n",
        "\n",
        "for j in range(0, N):\n",
        "    cont_00 = 0\n",
        "    cont_01 = 0\n",
        "    cont_02 = 0\n",
        "    cont_03 = 0\n",
        "    cont_04 = 0\n",
        "    cont_05 = 0\n",
        "\n",
        "    if dado_01[j] == 6: # comparando o valor gerado pela dado1 com o valor 6\n",
        "        cont_01 = cont_01 + 1 #Se o valor da face for 6, contabiliza\n",
        "    if dado_02[j] == 6: # comparando o valor gerado pela dado2 com o valor 6\n",
        "        cont_02 = cont_02 + 1 #Se o valor da face for 6, contabiliza\n",
        "    if dado_03[j] == 6: # comparando o valor gerado pela dado3 com o valor 6\n",
        "        cont_03 = cont_03 +1 #Se o valor da face for 6, contabiliza\n",
        "    if dado_04[j] == 6: # comparando o valor gerado pela dado4 com o valor 6\n",
        "        cont_04 = cont_04 + 1 #Se o valor da face for 6, contabiliza\n",
        "    if dado_05[j] == 6: # comparando o valor gerado pela dado5 com o valor 6\n",
        "        cont_05 = cont_05 + 1 #Se o valor da face for 6, contabiliza\n",
        "\n",
        "    cont_00 = cont_01 + cont_02 + cont_03 + cont_04 + cont_05 #Somatório dos dados que geraram a face 6\n",
        "\n",
        "    if cont_00 >= 1: #Se cont_00 for maior/igual do que 1 contabiliza a quantidade\n",
        "        quant = quant + 1\n",
        "\n",
        "prob = (quant/N)*100 # Calculo da Probalidade, dividinho a quantidade dos eventos pelo número de amostras\n",
        "print(\"A probabilidade de obter pelo menos um dado com o face seis é de: \",prob, \"%\")"
      ]
    }
  ]
}