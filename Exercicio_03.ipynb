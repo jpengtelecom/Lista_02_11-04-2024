{
  "nbformat": 4,
  "nbformat_minor": 0,
  "metadata": {
    "colab": {
      "provenance": [],
      "include_colab_link": true
    },
    "kernelspec": {
      "name": "python3",
      "display_name": "Python 3"
    },
    "language_info": {
      "name": "python"
    }
  },
  "cells": [
    {
      "cell_type": "markdown",
      "metadata": {
        "id": "view-in-github",
        "colab_type": "text"
      },
      "source": [
        "<a href=\"https://colab.research.google.com/github/jpengtelecom/Lista_02_11-04-2024/blob/main/Exercicio_03.ipynb\" target=\"_parent\"><img src=\"https://colab.research.google.com/assets/colab-badge.svg\" alt=\"Open In Colab\"/></a>"
      ]
    },
    {
      "cell_type": "code",
      "source": [
        "import numpy as np\n",
        "import pandas as pd\n",
        "import matplotlib.pyplot as plt\n",
        "import random\n"
      ],
      "metadata": {
        "id": "li0LlhOg4b0P"
      },
      "execution_count": 75,
      "outputs": []
    },
    {
      "cell_type": "code",
      "execution_count": 76,
      "metadata": {
        "colab": {
          "base_uri": "https://localhost:8080/"
        },
        "id": "88SFJ3ii4QUr",
        "outputId": "1e2103ea-8e1a-4af2-8a95-467b842c0e87"
      },
      "outputs": [
        {
          "output_type": "stream",
          "name": "stdout",
          "text": [
            "0.053995\n",
            "0.946005\n",
            "-0.40605499999999994\n",
            "PREJUIZO\n"
          ]
        }
      ],
      "source": [
        "N = 1000000 #número de amostras\n",
        "\n",
        "dado_01 = np.random.randint(1, 7, N) #Geração aleatória da face do dado1\n",
        "dado_02 = np.random.randint(1, 7, N) #Geração aleatória da face do dado2\n",
        "dado_03 = np.random.randint(1, 7, N) #Geração aleatória da face do dado3\n",
        "dado_04 = np.random.randint(1, 7, N) #Geração aleatória da face do dado4\n",
        "\n",
        "r = 10 # Valor total em caixa\n",
        "aposta = 1 # Valor da aposta\n",
        "valor_01 = 0\n",
        "valor_02 = 0\n",
        "caixa = 0\n",
        "\n",
        "\n",
        "\n",
        "for j in range(0, N):\n",
        "\n",
        "\n",
        "    cont_00 = dado_01[j] + dado_02[j] + dado_03[j] + dado_04[j] # soma dos valores das faces dos dados\n",
        "\n",
        "    if (cont_00 < 9): # Somas das faces inferior a nove contabiliza e atualiza o caixa\n",
        "                   valor_01 = valor_01 + 1\n",
        "\n",
        "    if (cont_00 >= 9): # Somas das faces Superior/igual a nove contabiliza e atualiza o caixa\n",
        "                   valor_02 = valor_02 + 1\n",
        "\n",
        "\n",
        "\n",
        "Prob_ganhar = valor_01/N #Probabilidade de ganhar\n",
        "Prob_perder = valor_02/N #Probabilidade de perder\n",
        "\n",
        "print(Prob_ganhar)\n",
        "print(Prob_perder)\n",
        "\n",
        "caixa = Prob_ganhar*r -  Prob_perder*aposta # calculo do saldo em caixa Calcula o saldo, subtraindo a perda do ganho\n",
        "print(caixa)\n",
        "\n",
        "if (caixa < 0):\n",
        "   print (\"PREJUIZO\")\n",
        "\n",
        "if (caixa > 0):\n",
        "     print (\"LUCRO\")\n",
        "\n",
        "if (caixa == 0):\n",
        "    print (\"SEM PREJUIZO OU LUCRO\")"
      ]
    }
  ]
}