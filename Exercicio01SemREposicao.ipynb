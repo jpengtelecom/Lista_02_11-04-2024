{
  "nbformat": 4,
  "nbformat_minor": 0,
  "metadata": {
    "colab": {
      "provenance": [],
      "include_colab_link": true
    },
    "kernelspec": {
      "name": "python3",
      "display_name": "Python 3"
    },
    "language_info": {
      "name": "python"
    }
  },
  "cells": [
    {
      "cell_type": "markdown",
      "metadata": {
        "id": "view-in-github",
        "colab_type": "text"
      },
      "source": [
        "<a href=\"https://colab.research.google.com/github/jpengtelecom/Lista_02_11-04-2024/blob/main/Exercicio01SemREposicao.ipynb\" target=\"_parent\"><img src=\"https://colab.research.google.com/assets/colab-badge.svg\" alt=\"Open In Colab\"/></a>"
      ]
    },
    {
      "cell_type": "code",
      "execution_count": 25,
      "metadata": {
        "colab": {
          "base_uri": "https://localhost:8080/"
        },
        "id": "M406KP1QJzad",
        "outputId": "ea3e5539-d68f-4b23-c5af-8ce72b19eb5b"
      },
      "outputs": [
        {
          "output_type": "stream",
          "name": "stdout",
          "text": [
            "Requirement already satisfied: numpy in /usr/local/lib/python3.10/dist-packages (1.25.2)\n",
            "Requirement already satisfied: matplotlib in /usr/local/lib/python3.10/dist-packages (3.7.1)\n",
            "Requirement already satisfied: contourpy>=1.0.1 in /usr/local/lib/python3.10/dist-packages (from matplotlib) (1.2.1)\n",
            "Requirement already satisfied: cycler>=0.10 in /usr/local/lib/python3.10/dist-packages (from matplotlib) (0.12.1)\n",
            "Requirement already satisfied: fonttools>=4.22.0 in /usr/local/lib/python3.10/dist-packages (from matplotlib) (4.50.0)\n",
            "Requirement already satisfied: kiwisolver>=1.0.1 in /usr/local/lib/python3.10/dist-packages (from matplotlib) (1.4.5)\n",
            "Requirement already satisfied: numpy>=1.20 in /usr/local/lib/python3.10/dist-packages (from matplotlib) (1.25.2)\n",
            "Requirement already satisfied: packaging>=20.0 in /usr/local/lib/python3.10/dist-packages (from matplotlib) (24.0)\n",
            "Requirement already satisfied: pillow>=6.2.0 in /usr/local/lib/python3.10/dist-packages (from matplotlib) (9.4.0)\n",
            "Requirement already satisfied: pyparsing>=2.3.1 in /usr/local/lib/python3.10/dist-packages (from matplotlib) (3.1.2)\n",
            "Requirement already satisfied: python-dateutil>=2.7 in /usr/local/lib/python3.10/dist-packages (from matplotlib) (2.8.2)\n",
            "Requirement already satisfied: six>=1.5 in /usr/local/lib/python3.10/dist-packages (from python-dateutil>=2.7->matplotlib) (1.16.0)\n"
          ]
        }
      ],
      "source": [
        "!pip install numpy\n",
        "!pip install matplotlib\n"
      ]
    },
    {
      "cell_type": "code",
      "source": [
        "import numpy as np\n",
        "import matplotlib.pyplot as plt\n",
        "\n",
        "\n",
        "N = 100000\n",
        "x = np.random.uniform(0, 1, N)\n",
        "\n",
        "bola_azul = 10\n",
        "bola_roxa = 10\n",
        "bola_amarela = 10\n",
        "bola_vermelha = 10\n",
        "\n",
        "cont_01 = 0\n",
        "cont_02 = 0\n",
        "cont_03 = 0\n",
        "cont_04 = 0\n",
        "\n",
        "\n",
        "quant = 0\n",
        "\n",
        "for _ in range(N):\n",
        "        x = np.random.uniform(0, 1, 10)\n",
        "        if (bola_azul + bola_roxa + bola_amarela + bola_vermelha) <= 0:\n",
        "                bola_azul = 10\n",
        "                bola_roxa = 10\n",
        "                bola_amarela = 10\n",
        "                bola_vermelha = 10\n",
        "        for val in x:\n",
        "         prob_azul = bola_azul / (bola_azul + bola_roxa + bola_amarela + bola_vermelha)\n",
        "         prob_amarela = bola_amarela / (bola_azul + bola_roxa + bola_amarela + bola_vermelha)\n",
        "         prob_roxa = bola_roxa / (bola_azul + bola_roxa + bola_amarela + bola_vermelha)\n",
        "         prob_vermelha = bola_vermelha / (bola_azul + bola_roxa + bola_amarela + bola_vermelha)\n",
        "\n",
        "        if val <= prob_azul:\n",
        "            bola_azul -= 1\n",
        "\n",
        "        elif val <= (prob_azul + prob_amarela):\n",
        "            bola_amarela -= 1\n",
        "\n",
        "        elif val <= (prob_azul + prob_amarela + prob_vermelha):\n",
        "            bola_vermelha -= 1\n",
        "\n",
        "        elif val <= (prob_azul + prob_amarela + prob_vermelha + prob_roxa):\n",
        "            bola_roxa -= 1\n",
        "\n",
        "        if  bola_azul == 2 and bola_roxa == 2:\n",
        "          quant += 1\n",
        "\n",
        "prob = (quant / N) * 100  # Cálculo da probabilidade\n",
        "print(\"A probabilidade:\", prob, \"%\")"
      ],
      "metadata": {
        "colab": {
          "base_uri": "https://localhost:8080/"
        },
        "outputId": "a28f4bb5-fac8-4fd1-e9d6-3e5b0798e959",
        "id": "odnYJ3Bu42kl"
      },
      "execution_count": 26,
      "outputs": [
        {
          "output_type": "stream",
          "name": "stdout",
          "text": [
            "A probabilidade: 2.0469999999999997 %\n"
          ]
        }
      ]
    }
  ]
}