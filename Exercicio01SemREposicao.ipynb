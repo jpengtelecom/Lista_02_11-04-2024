{
  "nbformat": 4,
  "nbformat_minor": 0,
  "metadata": {
    "colab": {
      "provenance": [],
      "include_colab_link": true
    },
    "kernelspec": {
      "name": "python3",
      "display_name": "Python 3"
    },
    "language_info": {
      "name": "python"
    }
  },
  "cells": [
    {
      "cell_type": "markdown",
      "metadata": {
        "id": "view-in-github",
        "colab_type": "text"
      },
      "source": [
        "<a href=\"https://colab.research.google.com/github/jpengtelecom/Lista_02_11-04-2024/blob/main/Exercicio01SemREposicao.ipynb\" target=\"_parent\"><img src=\"https://colab.research.google.com/assets/colab-badge.svg\" alt=\"Open In Colab\"/></a>"
      ]
    },
    {
      "cell_type": "code",
      "execution_count": 51,
      "metadata": {
        "colab": {
          "base_uri": "https://localhost:8080/"
        },
        "id": "M406KP1QJzad",
        "outputId": "ca61338a-b12e-4812-f7be-f9c8c45adc41"
      },
      "outputs": [
        {
          "output_type": "stream",
          "name": "stdout",
          "text": [
            "Requirement already satisfied: numpy in /usr/local/lib/python3.10/dist-packages (1.25.2)\n",
            "Requirement already satisfied: matplotlib in /usr/local/lib/python3.10/dist-packages (3.7.1)\n",
            "Requirement already satisfied: contourpy>=1.0.1 in /usr/local/lib/python3.10/dist-packages (from matplotlib) (1.2.1)\n",
            "Requirement already satisfied: cycler>=0.10 in /usr/local/lib/python3.10/dist-packages (from matplotlib) (0.12.1)\n",
            "Requirement already satisfied: fonttools>=4.22.0 in /usr/local/lib/python3.10/dist-packages (from matplotlib) (4.50.0)\n",
            "Requirement already satisfied: kiwisolver>=1.0.1 in /usr/local/lib/python3.10/dist-packages (from matplotlib) (1.4.5)\n",
            "Requirement already satisfied: numpy>=1.20 in /usr/local/lib/python3.10/dist-packages (from matplotlib) (1.25.2)\n",
            "Requirement already satisfied: packaging>=20.0 in /usr/local/lib/python3.10/dist-packages (from matplotlib) (24.0)\n",
            "Requirement already satisfied: pillow>=6.2.0 in /usr/local/lib/python3.10/dist-packages (from matplotlib) (9.4.0)\n",
            "Requirement already satisfied: pyparsing>=2.3.1 in /usr/local/lib/python3.10/dist-packages (from matplotlib) (3.1.2)\n",
            "Requirement already satisfied: python-dateutil>=2.7 in /usr/local/lib/python3.10/dist-packages (from matplotlib) (2.8.2)\n",
            "Requirement already satisfied: six>=1.5 in /usr/local/lib/python3.10/dist-packages (from python-dateutil>=2.7->matplotlib) (1.16.0)\n"
          ]
        }
      ],
      "source": [
        "!pip install numpy\n",
        "!pip install matplotlib\n"
      ]
    },
    {
      "cell_type": "code",
      "source": [
        "import numpy as np\n",
        "import matplotlib.pyplot as plt\n",
        "\n",
        "N = 100 #número de amostras\n",
        "x = np.random.uniform(0, 1, N) #variavel aleatoria\n",
        "\n",
        "bola_azul = 10\n",
        "bola_roxa = 10\n",
        "bola_amarela = 10\n",
        "bola_vermelha = 10\n",
        "\n",
        "\n",
        "cont_01 = 0\n",
        "cont_02 = 0\n",
        "cont_03 = 0\n",
        "cont_04 = 0\n",
        "\n",
        "quant = 0\n",
        "\n",
        "for val in x:\n",
        "\n",
        "    if (bola_azul + bola_roxa + bola_amarela + bola_vermelha) <= 0:\n",
        "         bola_azul = 10\n",
        "         bola_roxa = 10\n",
        "         bola_amarela = 10\n",
        "         bola_vermelha = 10\n",
        "\n",
        "    prob_azul = bola_azul / (bola_azul + bola_roxa + bola_amarela + bola_vermelha)\n",
        "    prob_amarela = bola_amarela / (bola_azul + bola_roxa + bola_amarela + bola_vermelha)\n",
        "    prob_roxa = bola_roxa / (bola_azul + bola_roxa + bola_amarela + bola_vermelha)\n",
        "    prob_vermelha = bola_vermelha / (bola_azul + bola_roxa + bola_amarela + bola_vermelha)\n",
        "\n",
        "\n",
        "\n",
        "    if ( prob_azul) <= 0:\n",
        "            break\n",
        "    if val <= (prob_azul):  # Bola Azul\n",
        "        cont_01 += 1\n",
        "        bola_azul -= 1\n",
        "        print(prob_azul)\n",
        "    if (prob_amarela + prob_azul) <= 0:\n",
        "            break\n",
        "    elif val <= (prob_amarela + prob_azul):  # Bola Amarela\n",
        "        cont_02 += 1\n",
        "        bola_amarela -= 1\n",
        "\n",
        "    if (prob_amarela + prob_azul + prob_vermelha) <= 0:\n",
        "            break\n",
        "    elif val <= (prob_amarela + prob_azul + prob_vermelha):  # Bola Vermelha\n",
        "        cont_03 += 1\n",
        "        bola_vermelha -= 1\n",
        "\n",
        "    if (prob_amarela + prob_azul + prob_vermelha + prob_roxa) <= 0:\n",
        "            break\n",
        "    elif val <= (prob_amarela + prob_azul + prob_vermelha + prob_roxa):  # Bola Roxa\n",
        "        cont_04 += 1\n",
        "        bola_roxa -= 1\n",
        "\n",
        "    cont_00 = (cont_01 + cont_02 + cont_03 + cont_04)\n",
        "\n",
        "    if cont_00 == 10:\n",
        "        if cont_01 == 2 and cont_04 == 2:\n",
        "            quant += 1\n",
        "            print(quant)\n",
        "            cont_01 = 0\n",
        "            cont_02 = 0\n",
        "            cont_03 = 0\n",
        "            cont_04 = 0\n",
        "\n",
        "\n",
        "\n",
        "prob = (quant / N) * 100  # Cálculo da Probabilidade\n",
        "print(\"A probabilidade : \", prob, \"%\")\n",
        "\n",
        "\n"
      ],
      "metadata": {
        "colab": {
          "base_uri": "https://localhost:8080/"
        },
        "id": "HHk5CbcfJ-1C",
        "outputId": "ce15a4bf-c04e-4636-aea0-b5179f163da5"
      },
      "execution_count": 52,
      "outputs": [
        {
          "output_type": "stream",
          "name": "stdout",
          "text": [
            "0.25\n",
            "0.25\n",
            "0.25\n",
            "0.3888888888888889\n",
            "0.6\n",
            "0.8333333333333334\n",
            "2.0\n",
            "0.38461538461538464\n",
            "0.47368421052631576\n",
            "0.5333333333333333\n",
            "0.6363636363636364\n",
            "0.8571428571428571\n",
            "1.6666666666666667\n",
            "0.25\n",
            "0.2571428571428571\n",
            "0.2857142857142857\n",
            "0.4666666666666667\n",
            "0.75\n",
            "1.25\n",
            "0.2702702702702703\n",
            "0.3103448275862069\n",
            "0.32\n",
            "0.4117647058823529\n",
            "0.6666666666666666\n",
            "1.0\n",
            "4.0\n",
            "0.2777777777777778\n",
            "0.28125\n",
            "0.32\n",
            "0.4117647058823529\n",
            "0.46153846153846156\n",
            "0.8333333333333334\n",
            "2.0\n",
            "0.3225806451612903\n",
            "0.391304347826087\n",
            "0.4444444444444444\n",
            "0.5\n",
            "0.8571428571428571\n",
            "1.6666666666666667\n",
            "0.2857142857142857\n",
            "0.2903225806451613\n",
            "0.32\n",
            "0.5833333333333334\n",
            "1.2\n",
            "5.0\n",
            "0.25\n",
            "0.2903225806451613\n",
            "A probabilidade :  0.0 %\n"
          ]
        }
      ]
    },
    {
      "cell_type": "code",
      "source": [],
      "metadata": {
        "id": "c7UxN2yzuuFc"
      },
      "execution_count": 52,
      "outputs": []
    },
    {
      "cell_type": "code",
      "source": [
        "\n"
      ],
      "metadata": {
        "id": "Q1CPrED3Ku8k"
      },
      "execution_count": 52,
      "outputs": []
    }
  ]
}